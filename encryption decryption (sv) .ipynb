{
 "cells": [
  {
   "cell_type": "code",
   "execution_count": 2,
   "metadata": {},
   "outputs": [
    {
     "name": "stdout",
     "output_type": "stream",
     "text": [
      "Collecting pycryptodome\n",
      "  Downloading pycryptodome-3.21.0-cp36-abi3-win_amd64.whl.metadata (3.4 kB)\n",
      "Downloading pycryptodome-3.21.0-cp36-abi3-win_amd64.whl (1.8 MB)\n",
      "   ---------------------------------------- 0.0/1.8 MB ? eta -:--:--\n",
      "   ---------------------------------------- 0.0/1.8 MB ? eta -:--:--\n",
      "    --------------------------------------- 0.0/1.8 MB 330.3 kB/s eta 0:00:06\n",
      "   -- ------------------------------------- 0.1/1.8 MB 939.4 kB/s eta 0:00:02\n",
      "   ----------- ---------------------------- 0.5/1.8 MB 3.3 MB/s eta 0:00:01\n",
      "   ---------------------------------------  1.8/1.8 MB 8.9 MB/s eta 0:00:01\n",
      "   ---------------------------------------- 1.8/1.8 MB 8.9 MB/s eta 0:00:00\n",
      "Installing collected packages: pycryptodome\n",
      "Successfully installed pycryptodome-3.21.0\n",
      "Note: you may need to restart the kernel to use updated packages.\n"
     ]
    }
   ],
   "source": [
    "# Install the required package\n",
    "%pip install pycryptodome\n",
    "\n",
    "from Crypto.Cipher import AES # type: ignore\n",
    "from Crypto.PublicKey import RSA # type: ignore\n",
    "from Crypto.Random import get_random_bytes # type: ignore\n",
    "import base64\n",
    "import tkinter as tk\n",
    "from tkinter import messagebox"
   ]
  },
  {
   "cell_type": "code",
   "execution_count": 3,
   "metadata": {},
   "outputs": [],
   "source": [
    "# AES Encryption (Advanced Encryption Standard)\n",
    "def aes_encrypt(plaintext, key):\n",
    "    cipher = AES.new(key, AES.MODE_EAX)\n",
    "    nonce = cipher.nonce\n",
    "    ciphertext, tag = cipher.encrypt_and_digest(plaintext.encode('utf-8'))\n",
    "    return base64.b64encode(nonce + ciphertext).decode('utf-8')\n",
    "\n",
    "# AES Decryption (Advanced Encryption Standard)\n",
    "def aes_decrypt(ciphertext, key):\n",
    "    ciphertext = base64.b64decode(ciphertext)\n",
    "    nonce = ciphertext[:16]\n",
    "    cipher = AES.new(key, AES.MODE_EAX, nonce=nonce)\n",
    "    plaintext = cipher.decrypt(ciphertext[16:]).decode('utf-8')\n",
    "    return plaintext"
   ]
  },
  {
   "cell_type": "code",
   "execution_count": 4,
   "metadata": {},
   "outputs": [],
   "source": [
    "# RSA Key Generation\n",
    "def generate_rsa_keys():\n",
    "    key = RSA.generate(2048)\n",
    "    private_key = key.export_key()\n",
    "    public_key = key.publickey().export_key()\n",
    "    return private_key, public_key\n",
    "\n",
    "# RSA Encryption\n",
    "def rsa_encrypt(plaintext, public_key):\n",
    "    public_key = RSA.import_key(public_key)\n",
    "    ciphertext = public_key.encrypt(plaintext.encode('utf-8'), None)\n",
    "    return base64.b64encode(ciphertext[0]).decode('utf-8')\n",
    "\n",
    "# RSA Decryption\n",
    "def rsa_decrypt(ciphertext, private_key):\n",
    "    private_key = RSA.import_key(private_key)\n",
    "    ciphertext = base64.b64decode(ciphertext)\n",
    "    plaintext = private_key.decrypt(ciphertext).decode('utf-8')\n",
    "    return plaintext"
   ]
  },
  {
   "cell_type": "code",
   "execution_count": 5,
   "metadata": {},
   "outputs": [],
   "source": [
    "class SecureTextApp:\n",
    "    def __init__(self, root):\n",
    "        self.root = root\n",
    "        self.root.title(\"SecureText Encryption\")\n",
    "        self.root.geometry(\"400x400\")\n",
    "\n",
    "        self.key_label = tk.Label(root, text=\"Key:\")\n",
    "        self.key_label.pack()\n",
    "        self.key_entry = tk.Entry(root, width=50)\n",
    "        self.key_entry.pack()\n",
    "\n",
    "        self.plaintext_label = tk.Label(root, text=\"Plaintext:\")\n",
    "        self.plaintext_label.pack()\n",
    "        self.plaintext_entry = tk.Entry(root, width=50)\n",
    "        self.plaintext_entry.pack()\n",
    "\n",
    "        self.ciphertext_label = tk.Label(root, text=\"Ciphertext:\")\n",
    "        self.ciphertext_label.pack()\n",
    "        self.ciphertext_entry = tk.Entry(root, width=50)\n",
    "        self.ciphertext_entry.pack()\n",
    "\n",
    "        self.encrypt_button = tk.Button(root, text=\"Encrypt\", command=self.encrypt_text)\n",
    "        self.encrypt_button.pack()\n",
    "        self.decrypt_button = tk.Button(root, text=\"Decrypt\", command=self.decrypt_text)\n",
    "        self.decrypt_button.pack()\n",
    "\n",
    "    def encrypt_text(self):\n",
    "        plaintext = self.plaintext_entry.get()\n",
    "        key = self.key_entry.get().encode('utf-8')\n",
    "        if len(key) < 16:\n",
    "            key = key.ljust(16, b'\\0')\n",
    "        elif len(key) > 16:\n",
    "            key = key[:16]\n",
    "        ciphertext = aes_encrypt(plaintext, key)\n",
    "        self.ciphertext_entry.delete(0, tk.END)\n",
    "        self.ciphertext_entry.insert(0, ciphertext)\n",
    "\n",
    "    def decrypt_text(self):\n",
    "        ciphertext = self.ciphertext_entry.get()\n",
    "        key = self.key_entry.get().encode('utf-8')\n",
    "        if len(key) < 16:\n",
    "            key = key.ljust(16, b'\\0')\n",
    "        elif len(key) > 16:\n",
    "            key = key[:16]\n",
    "        try:\n",
    "            plaintext = aes_decrypt(ciphertext, key)\n",
    "            self.plaintext_entry.delete(0, tk.END)\n",
    "            self.plaintext_entry.insert(0, plaintext)\n",
    "        except Exception as e:\n",
    "            messagebox.showerror(\"Decryption Error\", str(e))\n",
    "\n",
    "if __name__ == \"__main__\":\n",
    "    root = tk.Tk()\n",
    "    app = SecureTextApp(root)\n",
    "    root.mainloop()"
   ]
  }
 ],
 "metadata": {
  "kernelspec": {
   "display_name": "base",
   "language": "python",
   "name": "python3"
  },
  "language_info": {
   "codemirror_mode": {
    "name": "ipython",
    "version": 3
   },
   "file_extension": ".py",
   "mimetype": "text/x-python",
   "name": "python",
   "nbconvert_exporter": "python",
   "pygments_lexer": "ipython3",
   "version": "3.11.7"
  }
 },
 "nbformat": 4,
 "nbformat_minor": 2
}
